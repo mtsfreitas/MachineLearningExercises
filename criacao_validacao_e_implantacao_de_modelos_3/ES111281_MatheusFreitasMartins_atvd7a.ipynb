{
 "cells": [
  {
   "cell_type": "markdown",
   "id": "7873d572",
   "metadata": {},
   "source": [
    "# Atividade 7(a)\n",
    "* **Nome:** Matheus Freitas Martins \n",
    "* **Matrícula:** ES111281"
   ]
  },
  {
   "cell_type": "markdown",
   "id": "536926bd",
   "metadata": {},
   "source": [
    "# Importando dependências"
   ]
  },
  {
   "cell_type": "code",
   "execution_count": 99,
   "id": "5165d2e5",
   "metadata": {},
   "outputs": [],
   "source": [
    "import pandas as pd\n",
    "import numpy as np\n",
    "from sklearn.model_selection import train_test_split, GridSearchCV, cross_val_score\n",
    "from sklearn.linear_model import LogisticRegression\n",
    "from sklearn.ensemble import RandomForestClassifier\n",
    "from sklearn.preprocessing import StandardScaler\n",
    "from sklearn.pipeline import Pipeline\n",
    "from sklearn.metrics import accuracy_score"
   ]
  },
  {
   "cell_type": "markdown",
   "id": "c8be17b8",
   "metadata": {},
   "source": [
    "# Carregando dados"
   ]
  },
  {
   "cell_type": "code",
   "execution_count": 100,
   "id": "7261670a",
   "metadata": {},
   "outputs": [],
   "source": [
    "data = pd.read_csv('breastcancerwisconsin.csv')"
   ]
  },
  {
   "cell_type": "markdown",
   "id": "8768f598",
   "metadata": {},
   "source": [
    "# Preparando os dados"
   ]
  },
  {
   "cell_type": "code",
   "execution_count": 101,
   "id": "2a4c894d",
   "metadata": {},
   "outputs": [],
   "source": [
    "# Eliminar coluna 'Unnamed: 32' e 'id'\n",
    "data = data.drop(['Unnamed: 32', 'id'], axis=1)\n",
    "\n",
    "# Mapear a coluna 'diagnosis' para valores numéricos\n",
    "data['diagnosis'] = data['diagnosis'].map({'M': 1, 'B': 0})"
   ]
  },
  {
   "cell_type": "markdown",
   "id": "d939bea8",
   "metadata": {},
   "source": [
    "# Dividindo os dados em conjuntos de treinamento e teste"
   ]
  },
  {
   "cell_type": "code",
   "execution_count": 102,
   "id": "9a5c101a",
   "metadata": {},
   "outputs": [],
   "source": [
    "# treino (70%), validação (15%) e teste (15%)\n",
    "X = data.drop('diagnosis', axis=1)\n",
    "y = data['diagnosis']\n",
    "X_train, X_temp, y_train, y_temp = train_test_split(X, y, test_size=0.3, random_state=42)\n",
    "X_val, X_test, y_val, y_test = train_test_split(X_temp, y_temp, test_size=0.5, random_state=42)"
   ]
  },
  {
   "cell_type": "markdown",
   "id": "8e29fd20",
   "metadata": {},
   "source": [
    "# Criando pipeline para cada algoritmo"
   ]
  },
  {
   "cell_type": "code",
   "execution_count": 103,
   "id": "c585a374",
   "metadata": {},
   "outputs": [],
   "source": [
    "log_reg_pipeline = Pipeline([('scaler', StandardScaler()), ('log_reg', LogisticRegression(random_state=42))])\n",
    "rand_forest_pipeline = Pipeline([('scaler', StandardScaler()), ('rand_forest', RandomForestClassifier(random_state=42))])"
   ]
  },
  {
   "cell_type": "markdown",
   "id": "d88f9b98",
   "metadata": {},
   "source": [
    "# Ajustando os hiperparâmetros para Regressão Logística e Random Forest"
   ]
  },
  {
   "cell_type": "code",
   "execution_count": 104,
   "id": "d880d110",
   "metadata": {},
   "outputs": [],
   "source": [
    "# log_reg__C: Controla a força da regularização, ajudando a evitar overfitting. Valores menores resultam em maior penalidade e regularização mais forte.\n",
    "## default: 1.0\n",
    "# log_reg__solver: Define o algoritmo de otimização utilizado no treinamento do modelo de Regressão Logística.\n",
    "## default: 'lbfgs'\n",
    "# log_reg__max_iter: refere-se ao número máximo de iterações que o algoritmo de otimização deve executar antes de parar. \n",
    "## default: 100\n",
    "log_reg_param_grid = {\n",
    "    'log_reg__C': np.logspace(-4, 4, 10),\n",
    "    'log_reg__solver': ['newton-cg', 'lbfgs'],\n",
    "    'log_reg__max_iter': [1000, 5000, 10000]\n",
    "}\n",
    "\n",
    "\n",
    "# rand_forest__n_estimators: Controla o número de árvores de decisão na floresta aleatória, afetando a capacidade de generalização e o tempo de treinamento.\n",
    "## default: 100\n",
    "# rand_forest__max_depth: Controla a profundidade máxima das árvores de decisão, ajudando a evitar overfitting e influenciando a capacidade do modelo de aprender padrões complexos.\n",
    "## default: none \n",
    "# rand_forest__min_samples_split: Controla o número mínimo de amostras necessárias para dividir um nó interno, ajudando a evitar overfitting e influenciando a capacidade do modelo de aprender padrões complexos.\n",
    "## default: 2\n",
    "# rand_forest__min_samples_leaf: Controla o número mínimo de amostras necessárias para formar um nó terminal (folha) \n",
    "## default: 1\n",
    "# rand_forest__max_features: Determina o número de recursos considerados ao procurar a melhor divisão em cada nó da árvore\n",
    "## default: auto\n",
    "rand_forest_param_grid = {'rand_forest__n_estimators': [10, 50, 100, 200],\n",
    "                          'rand_forest__max_depth': [None, 10, 30, 50],\n",
    "                          'rand_forest__min_samples_split': [2, 5, 10],\n",
    "                          'rand_forest__min_samples_leaf': [1, 2, 4],\n",
    "                          'rand_forest__max_features': ['sqrt']}\n",
    "\n",
    "\n"
   ]
  },
  {
   "cell_type": "markdown",
   "id": "f6498e42",
   "metadata": {},
   "source": [
    "# Buscando os melhores hiperparâmetros + validação cruzada"
   ]
  },
  {
   "cell_type": "code",
   "execution_count": 105,
   "id": "63fdaacf",
   "metadata": {},
   "outputs": [],
   "source": [
    "log_reg_grid = GridSearchCV(log_reg_pipeline, log_reg_param_grid, cv=5)\n",
    "rand_forest_grid = GridSearchCV(rand_forest_pipeline, rand_forest_param_grid, cv=5)"
   ]
  },
  {
   "cell_type": "markdown",
   "id": "33addc0f",
   "metadata": {},
   "source": [
    "# Treinando e avaliando os modelos"
   ]
  },
  {
   "cell_type": "code",
   "execution_count": 106,
   "id": "a2222e5c",
   "metadata": {},
   "outputs": [
    {
     "name": "stdout",
     "output_type": "stream",
     "text": [
      "Melhores hiperparâmetros para Regressão Logística: {'log_reg__C': 2.782559402207126, 'log_reg__max_iter': 1000, 'log_reg__solver': 'newton-cg'}\n",
      "\n",
      "Melhores hiperparâmetros para Random Forest: {'rand_forest__max_depth': None, 'rand_forest__max_features': 'sqrt', 'rand_forest__min_samples_leaf': 2, 'rand_forest__min_samples_split': 2, 'rand_forest__n_estimators': 200}\n",
      "\n",
      "Acurácia da Regressão Logística otimizada: 0.9882352941176471\n",
      "Acurácia do Random Forest otimizado: 0.9647058823529412\n"
     ]
    }
   ],
   "source": [
    "log_reg_grid.fit(X_train, y_train)\n",
    "rand_forest_grid.fit(X_train, y_train)\n",
    "\n",
    "# Exibir os melhores hiperparâmetros encontrados\n",
    "print('Melhores hiperparâmetros para Regressão Logística:', log_reg_grid.best_params_)\n",
    "print('\\nMelhores hiperparâmetros para Random Forest:', rand_forest_grid.best_params_)\n",
    "\n",
    "# acurácia dos modelos otimizados\n",
    "log_reg_acc = accuracy_score(y_val, log_reg_grid.predict(X_val))\n",
    "rand_forest_acc = accuracy_score(y_val, rand_forest_grid.predict(X_val))\n",
    "\n",
    "print('\\nAcurácia da Regressão Logística otimizada:', log_reg_acc)\n",
    "print('Acurácia do Random Forest otimizado:', rand_forest_acc)\n"
   ]
  }
 ],
 "metadata": {
  "kernelspec": {
   "display_name": "Python 3 (ipykernel)",
   "language": "python",
   "name": "python3"
  },
  "language_info": {
   "codemirror_mode": {
    "name": "ipython",
    "version": 3
   },
   "file_extension": ".py",
   "mimetype": "text/x-python",
   "name": "python",
   "nbconvert_exporter": "python",
   "pygments_lexer": "ipython3",
   "version": "3.10.9"
  }
 },
 "nbformat": 4,
 "nbformat_minor": 5
}
